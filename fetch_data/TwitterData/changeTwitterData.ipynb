{
 "cells": [
  {
   "cell_type": "code",
   "execution_count": 49,
   "metadata": {},
   "outputs": [],
   "source": [
    "import pandas as pd\n",
    "import MeCab as mc\n",
    "from wordcloud import WordCloud\n",
    "import os\n",
    "import re\n",
    "from wordcloud import STOPWORDS"
   ]
  },
  {
   "attachments": {},
   "cell_type": "markdown",
   "metadata": {},
   "source": [
    "# Twitterの外部ライブラリ(GOT3)の使い方\n",
    "python3 cli.py -s (検索ワード) --since \"2022-12-05\"(検索開始日時) --untill \"2022-12-06\"(検索終了日時) -o user.csv(ファイル名) --csv"
   ]
  },
  {
   "cell_type": "code",
   "execution_count": 19,
   "metadata": {},
   "outputs": [],
   "source": [
    "def reduceTwitterData(rawData):\n",
    "    df = pd.read_csv(\"../GetOldTweets3-0.0.10/\" + rawData)\n",
    "    print(df)\n",
    "    df.to_csv('./csv_Data/revised_'+ rawData, columns = ['date', 'time', 'timezone', 'tweet'], index = False)"
   ]
  },
  {
   "cell_type": "code",
   "execution_count": 3,
   "metadata": {},
   "outputs": [],
   "source": [
    "def strip_CRLF_from_Text(text):\n",
    "    \"\"\"\n",
    "    改行前後が日本語文字の場合は改行を削除する．\n",
    "    それ以外はスペースに置換する．\n",
    "    \"\"\"\n",
    "    # 改行前後の文字が日本語文字の場合は改行を削除する\n",
    "    plaintext = re.sub('([ぁ-んー]+|[ァ-ンー]+|[\\\\u4e00-\\\\u9FFF]+|[ぁ-んァ-ンー\\\\u4e00-\\\\u9FFF]+)(\\n)([ぁ-んー]+|[ァ-ンー]+|[\\\\u4e00-\\\\u9FFF]+|[ぁ-んァ-ンー\\\\u4e00-\\\\u9FFF]+)',\n",
    "                       r'\\1\\3',\n",
    "                       text)\n",
    "    plaintext = re.sub('http(s)?://([\\w]+\\.)+[\\w]+(/[\\w ./?%&=]*)?', \"\", plaintext)\n",
    "    # 残った改行とタブ記号はスペースに置換する\n",
    "    plaintext = plaintext.replace('\\n', ' ').replace('\\t', ' ')\n",
    "    return plaintext"
   ]
  },
  {
   "cell_type": "code",
   "execution_count": 4,
   "metadata": {},
   "outputs": [],
   "source": [
    "def mecab_wakati(text):\n",
    "    #t = mc.Tagger()\n",
    "    t = mc.Tagger('-d /usr/local/lib/mecab/dic/mecab-ipadic-neologd/')\n",
    "    node = t.parseToNode(text)\n",
    "    #print(type(node))\n",
    "    sent = \"\"\n",
    "    while(node):\n",
    "        if node.surface != \"\":  # ヘッダとフッタを除外\n",
    "            word_type = node.feature.split(\",\")[0]\n",
    "            # 名詞だけをリストに追加する\n",
    "            # if word_type in [\"名詞\"] and ((\"日本\") not in node.surface) and ((\"代表\") not in node.surface) and ((\"選手\") not in node.surface) and ((\"監督\") not in node.surface) and ((\"試合\") not in node.surface):\n",
    "            #      sent += node.surface + \" \"  # node.surface は「表層形」\n",
    "            # 動詞（の原型），形容詞，副詞もリストに加えたい場合は次の２行を有効にする\n",
    "            if word_type in [ \"形容動詞\", \"形容詞\"]:\n",
    "                sent += node.feature.split(\",\")[6] + \" \" \n",
    "        node = node.next\n",
    "        if node is None:\n",
    "            break\n",
    "    return sent"
   ]
  },
  {
   "cell_type": "code",
   "execution_count": 103,
   "metadata": {},
   "outputs": [],
   "source": [
    "def twitterdataToWordCloud(CSV_FILE):\n",
    "    df = pd.read_csv(\"./csv_data/revised_\" + CSV_FILE, engine=\"python\")\n",
    "    tweet = df.loc[: , \"tweet\"]\n",
    "    tweetcontent = \"\"\n",
    "    for i in range(len(tweet)):\n",
    "        tweetcontent += str(tweet[i])\n",
    "    # f = open(tweetcontent, encoding=\"utf8\")\n",
    "    # raw = f.read()\n",
    "    #print(raw)\n",
    "    text = strip_CRLF_from_Text(tweetcontent)\n",
    "    #print(text)\n",
    "    sent = mecab_wakati(text)\n",
    "    sent = re.sub('(\\s)+(.)(\\s)+', ' ', sent)\n",
    "    # フォントの保存先を指定する\n",
    "    font_path = \"/System/Library/Fonts/ヒラギノ角ゴシック W3.ttc\" \n",
    "\n",
    "    STOPWORDS.add(\"ない\")\n",
    "    wc = WordCloud(max_font_size=120, font_path=font_path, background_color=\"white\", colormap=\"winter\", width=800, height=400).generate(sent)\n",
    "    wc.to_file(\"./wordCloud/wc-\" + CSV_FILE[:-3] + \"png\")"
   ]
  },
  {
   "cell_type": "code",
   "execution_count": 14,
   "metadata": {},
   "outputs": [],
   "source": [
    "def main(rawdata):  #nation.csv\n",
    "    reduceTwitterData(rawdata)\n",
    "    twitterdataToWordCloud(rawdata)"
   ]
  },
  {
   "cell_type": "code",
   "execution_count": 158,
   "metadata": {},
   "outputs": [
    {
     "name": "stdout",
     "output_type": "stream",
     "text": [
      "                       id      conversation_id               created_at  \\\n",
      "0     1598693412022419456  1598693412022419456  2022-12-02 23:59:46 JST   \n",
      "1     1598693396842848256  1598693396842848256  2022-12-02 23:59:42 JST   \n",
      "2     1598693374516776961  1598693374516776961  2022-12-02 23:59:37 JST   \n",
      "3     1598693348629520385  1598693348629520385  2022-12-02 23:59:31 JST   \n",
      "4     1598693312252502017  1598693312252502017  2022-12-02 23:59:22 JST   \n",
      "...                   ...                  ...                      ...   \n",
      "8742  1594136958300667906  1594136958300667906  2022-11-20 10:14:03 JST   \n",
      "8743  1594134698002812930  1594134698002812930  2022-11-20 10:05:04 JST   \n",
      "8744  1594124092718067713  1594124092718067713  2022-11-20 09:22:55 JST   \n",
      "8745  1594123356516786178  1594123356516786178  2022-11-20 09:20:00 JST   \n",
      "8746  1594120931974135808  1594118505640603648  2022-11-20 09:10:22 JST   \n",
      "\n",
      "            date      time  timezone              user_id         username  \\\n",
      "0     2022-12-02  23:59:46       900            462008895       xkatsushix   \n",
      "1     2022-12-02  23:59:42       900  1523147044986449920     kt17frofulie   \n",
      "2     2022-12-02  23:59:37       900  1433987690773377029  sadjasidfhsfur1   \n",
      "3     2022-12-02  23:59:31       900  1345336869114920963    mailovetaetae   \n",
      "4     2022-12-02  23:59:22       900            123279982        yoko_deco   \n",
      "...          ...       ...       ...                  ...              ...   \n",
      "8742  2022-11-20  10:14:03       900   725623555329662976       narita_jef   \n",
      "8743  2022-11-20  10:05:04       900            389876201           newsjx   \n",
      "8744  2022-11-20  09:22:55       900   896988751120932864  miyake_yukihiro   \n",
      "8745  2022-11-20  09:20:00       900            475615015  goaljp_official   \n",
      "8746  2022-11-20  09:10:22       900   895043631660244992       shirai2444   \n",
      "\n",
      "                                name  place  ... geo source user_rt_id  \\\n",
      "0                                 かち    NaN  ... NaN    NaN        NaN   \n",
      "1                       K-TA FULIE💙🤍    NaN  ... NaN    NaN        NaN   \n",
      "2     マシュマー（今度こそリベンジして全国制覇を💖　“前へ！“🏉）    NaN  ... NaN    NaN        NaN   \n",
      "3                       Mai❤︎.*ʕ•ᴥ•ʔ    NaN  ... NaN    NaN        NaN   \n",
      "4                    Yokoyama Takuya    NaN  ... NaN    NaN        NaN   \n",
      "...                              ...    ...  ...  ..    ...        ...   \n",
      "8742                              成田    NaN  ... NaN    NaN        NaN   \n",
      "8743                        日本の政府や政治    NaN  ... NaN    NaN        NaN   \n",
      "8744                    ゆうさん@G党&NYY党    NaN  ... NaN    NaN        NaN   \n",
      "8745                      GOAL Japan    NaN  ... NaN    NaN        NaN   \n",
      "8746                         \\ÒÓ/244    NaN  ... NaN    NaN        NaN   \n",
      "\n",
      "     user_rt retweet_id                                           reply_to  \\\n",
      "0        NaN        NaN                {'user_id': None, 'username': None}   \n",
      "1        NaN        NaN                {'user_id': None, 'username': None}   \n",
      "2        NaN        NaN                {'user_id': None, 'username': None}   \n",
      "3        NaN        NaN                {'user_id': None, 'username': None}   \n",
      "4        NaN        NaN                {'user_id': None, 'username': None}   \n",
      "...      ...        ...                                                ...   \n",
      "8742     NaN        NaN                {'user_id': None, 'username': None}   \n",
      "8743     NaN        NaN                {'user_id': None, 'username': None}   \n",
      "8744     NaN        NaN                {'user_id': None, 'username': None}   \n",
      "8745     NaN        NaN                {'user_id': None, 'username': None}   \n",
      "8746     NaN        NaN  {'user_id': '895043631660244992', 'username': ...   \n",
      "\n",
      "      retweet_date  translate trans_src trans_dest  \n",
      "0              NaN        NaN       NaN        NaN  \n",
      "1              NaN        NaN       NaN        NaN  \n",
      "2              NaN        NaN       NaN        NaN  \n",
      "3              NaN        NaN       NaN        NaN  \n",
      "4              NaN        NaN       NaN        NaN  \n",
      "...            ...        ...       ...        ...  \n",
      "8742           NaN        NaN       NaN        NaN  \n",
      "8743           NaN        NaN       NaN        NaN  \n",
      "8744           NaN        NaN       NaN        NaN  \n",
      "8745           NaN        NaN       NaN        NaN  \n",
      "8746           NaN        NaN       NaN        NaN  \n",
      "\n",
      "[8747 rows x 36 columns]\n"
     ]
    }
   ],
   "source": [
    "main(\"韓国-2022.csv\")"
   ]
  },
  {
   "cell_type": "markdown",
   "metadata": {},
   "source": []
  },
  {
   "cell_type": "code",
   "execution_count": 44,
   "metadata": {},
   "outputs": [],
   "source": [
    "twitterdataToWordCloud(\"セネガル-2022.csv\")"
   ]
  },
  {
   "cell_type": "code",
   "execution_count": null,
   "metadata": {},
   "outputs": [],
   "source": []
  }
 ],
 "metadata": {
  "kernelspec": {
   "display_name": "Python 3.9.13 64-bit",
   "language": "python",
   "name": "python3"
  },
  "language_info": {
   "codemirror_mode": {
    "name": "ipython",
    "version": 3
   },
   "file_extension": ".py",
   "mimetype": "text/x-python",
   "name": "python",
   "nbconvert_exporter": "python",
   "pygments_lexer": "ipython3",
   "version": "3.9.13"
  },
  "orig_nbformat": 4,
  "vscode": {
   "interpreter": {
    "hash": "aee8b7b246df8f9039afb4144a1f6fd8d2ca17a180786b69acc140d282b71a49"
   }
  }
 },
 "nbformat": 4,
 "nbformat_minor": 2
}
