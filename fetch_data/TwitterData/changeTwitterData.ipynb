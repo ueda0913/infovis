{
 "cells": [
  {
   "cell_type": "code",
   "execution_count": 1,
   "metadata": {},
   "outputs": [],
   "source": [
    "import pandas as pd\n",
    "import MeCab as mc\n",
    "from wordcloud import WordCloud\n",
    "import os\n",
    "import re"
   ]
  },
  {
   "attachments": {},
   "cell_type": "markdown",
   "metadata": {},
   "source": [
    "# Twitterの外部ライブラリ(GOT3)の使い方\n",
    "python3 cli.py -s (検索ワード) --since \"2022-12-05\"(検索開始日時) --untill \"2022-12-06\"(検索終了日時) -o user.csv(ファイル名) --csv"
   ]
  },
  {
   "cell_type": "code",
   "execution_count": 19,
   "metadata": {},
   "outputs": [],
   "source": [
    "def reduceTwitterData(rawData):\n",
    "    df = pd.read_csv(\"../GetOldTweets3-0.0.10/\" + rawData)\n",
    "    print(df)\n",
    "    df.to_csv('./csv_Data/revised_'+ rawData, columns = ['date', 'time', 'timezone', 'tweet'], index = False)"
   ]
  },
  {
   "cell_type": "code",
   "execution_count": 3,
   "metadata": {},
   "outputs": [],
   "source": [
    "def strip_CRLF_from_Text(text):\n",
    "    \"\"\"\n",
    "    改行前後が日本語文字の場合は改行を削除する．\n",
    "    それ以外はスペースに置換する．\n",
    "    \"\"\"\n",
    "    # 改行前後の文字が日本語文字の場合は改行を削除する\n",
    "    plaintext = re.sub('([ぁ-んー]+|[ァ-ンー]+|[\\\\u4e00-\\\\u9FFF]+|[ぁ-んァ-ンー\\\\u4e00-\\\\u9FFF]+)(\\n)([ぁ-んー]+|[ァ-ンー]+|[\\\\u4e00-\\\\u9FFF]+|[ぁ-んァ-ンー\\\\u4e00-\\\\u9FFF]+)',\n",
    "                       r'\\1\\3',\n",
    "                       text)\n",
    "    plaintext = re.sub('http(s)?://([\\w]+\\.)+[\\w]+(/[\\w ./?%&=]*)?', \"\", plaintext)\n",
    "    # 残った改行とタブ記号はスペースに置換する\n",
    "    plaintext = plaintext.replace('\\n', ' ').replace('\\t', ' ')\n",
    "    return plaintext"
   ]
  },
  {
   "cell_type": "code",
   "execution_count": 4,
   "metadata": {},
   "outputs": [],
   "source": [
    "def mecab_wakati(text):\n",
    "    #t = mc.Tagger()\n",
    "    t = mc.Tagger('-d /usr/local/lib/mecab/dic/mecab-ipadic-neologd/')\n",
    "    node = t.parseToNode(text)\n",
    "    #print(type(node))\n",
    "    sent = \"\"\n",
    "    while(node):\n",
    "        if node.surface != \"\":  # ヘッダとフッタを除外\n",
    "            word_type = node.feature.split(\",\")[0]\n",
    "            # 名詞だけをリストに追加する\n",
    "            # if word_type in [\"名詞\"] and ((\"日本\") not in node.surface) and ((\"代表\") not in node.surface) and ((\"選手\") not in node.surface) and ((\"監督\") not in node.surface) and ((\"試合\") not in node.surface):\n",
    "            #      sent += node.surface + \" \"  # node.surface は「表層形」\n",
    "            # 動詞（の原型），形容詞，副詞もリストに加えたい場合は次の２行を有効にする\n",
    "            if word_type in [ \"形容動詞\", \"形容詞\"]:\n",
    "                sent += node.feature.split(\",\")[6] + \" \" \n",
    "        node = node.next\n",
    "        if node is None:\n",
    "            break\n",
    "    return sent"
   ]
  },
  {
   "cell_type": "code",
   "execution_count": 18,
   "metadata": {},
   "outputs": [],
   "source": [
    "def twitterdataToWordCloud(CSV_FILE):\n",
    "    df = pd.read_csv(\"./csv_data/revised_\" + CSV_FILE)\n",
    "    tweet = df.loc[: , \"tweet\"]\n",
    "    tweetcontent = \"\"\n",
    "    for i in range(len(tweet)):\n",
    "        tweetcontent += tweet[i]\n",
    "    # f = open(tweetcontent, encoding=\"utf8\")\n",
    "    # raw = f.read()\n",
    "    #print(raw)\n",
    "    text = strip_CRLF_from_Text(tweetcontent)\n",
    "    #print(text)\n",
    "    sent = mecab_wakati(text)\n",
    "    sent = re.sub('(\\s)+(.)(\\s)+', ' ', sent)\n",
    "    # フォントの保存先を指定する\n",
    "    font_path = \"/System/Library/Fonts/ヒラギノ角ゴシック W3.ttc\"  ## Mac 版はこちら\n",
    "    wc = WordCloud(max_font_size=36, font_path=font_path).generate(sent)\n",
    "    wc.to_file(\"./wordCloud/wc-\" + CSV_FILE[:-3] + \"png\")"
   ]
  },
  {
   "cell_type": "code",
   "execution_count": 14,
   "metadata": {},
   "outputs": [],
   "source": [
    "def main(rawdata):  #nation.csv\n",
    "    reduceTwitterData(rawdata)\n",
    "    twitterdataToWordCloud(rawdata)"
   ]
  },
  {
   "cell_type": "code",
   "execution_count": 25,
   "metadata": {},
   "outputs": [
    {
     "name": "stdout",
     "output_type": "stream",
     "text": [
      "                       id      conversation_id               created_at  \\\n",
      "0     1603384768611098624  1603384768611098624  2022-12-15 22:41:32 JST   \n",
      "1     1603384725070315520  1602707206239289344  2022-12-15 22:41:22 JST   \n",
      "2     1603383000569622528  1603336876257005569  2022-12-15 22:34:31 JST   \n",
      "3     1603381095969558530  1603381095969558530  2022-12-15 22:26:57 JST   \n",
      "4     1603380654380503040  1603380654380503040  2022-12-15 22:25:12 JST   \n",
      "...                   ...                  ...                      ...   \n",
      "4588  1598848498790985728  1598848498790985728  2022-12-03 10:16:01 JST   \n",
      "4589  1598848153700413442  1598848153700413442  2022-12-03 10:14:39 JST   \n",
      "4590  1598842558498902016  1598842356509585408  2022-12-03 09:52:25 JST   \n",
      "4591  1598839335364997120  1598839335364997120  2022-12-03 09:39:37 JST   \n",
      "4592  1598830687280193536  1598830687280193536  2022-12-03 09:05:15 JST   \n",
      "\n",
      "            date      time  timezone              user_id         username  \\\n",
      "0     2022-12-15  22:41:32       900   843981120513355777         btbfpark   \n",
      "1     2022-12-15  22:41:22       900   979683238582001664         fight_j_   \n",
      "2     2022-12-15  22:34:31       900  1341770820700438528     ritamiyu__02   \n",
      "3     2022-12-15  22:26:57       900            243139179       yoshiomi_s   \n",
      "4     2022-12-15  22:25:12       900            220984087      gossip_suki   \n",
      "...          ...       ...       ...                  ...              ...   \n",
      "4588  2022-12-03  10:16:01       900            142137278         saitoh_k   \n",
      "4589  2022-12-03  10:14:39       900           2503248068   ikemenworldcup   \n",
      "4590  2022-12-03  09:52:25       900  1404459935434297349       juncoro082   \n",
      "4591  2022-12-03  09:39:37       900           1460957947  nanakonanako288   \n",
      "4592  2022-12-03  09:05:15       900           1850121494      hirataku310   \n",
      "\n",
      "                       name  place  ... geo source user_rt_id user_rt  \\\n",
      "0       BTBF@ドバイ在住🇦🇪カルダノSPO    NaN  ... NaN    NaN        NaN     NaN   \n",
      "1                 fight_J🇯🇵    NaN  ... NaN    NaN        NaN     NaN   \n",
      "2                       り た    NaN  ... NaN    NaN        NaN     NaN   \n",
      "3     臣（omi）@W杯イングランド代表応援中！    NaN  ... NaN    NaN        NaN     NaN   \n",
      "4                    ゴシップ好き    NaN  ... NaN    NaN        NaN     NaN   \n",
      "...                     ...    ...  ...  ..    ...        ...     ...   \n",
      "4588          斉藤健仁／スポーツライター    NaN  ... NaN    NaN        NaN     NaN   \n",
      "4589    [女子必見]Ｗ杯に集う世界のイケメン♡    NaN  ... NaN    NaN        NaN     NaN   \n",
      "4590                   coro    NaN  ... NaN    NaN        NaN     NaN   \n",
      "4591    Nanako@ CUEファンミ12/3    NaN  ... NaN    NaN        NaN     NaN   \n",
      "4592                 工藤ひろたか    NaN  ... NaN    NaN        NaN     NaN   \n",
      "\n",
      "     retweet_id                                           reply_to  \\\n",
      "0           NaN                {'user_id': None, 'username': None}   \n",
      "1           NaN  {'user_id': '1052781729423876096', 'username':...   \n",
      "2           NaN  {'user_id': '1475311879409266688', 'username':...   \n",
      "3           NaN                {'user_id': None, 'username': None}   \n",
      "4           NaN                {'user_id': None, 'username': None}   \n",
      "...         ...                                                ...   \n",
      "4588        NaN                {'user_id': None, 'username': None}   \n",
      "4589        NaN                {'user_id': None, 'username': None}   \n",
      "4590        NaN  {'user_id': '1404459935434297349', 'username':...   \n",
      "4591        NaN                {'user_id': None, 'username': None}   \n",
      "4592        NaN                {'user_id': None, 'username': None}   \n",
      "\n",
      "      retweet_date  translate trans_src trans_dest  \n",
      "0              NaN        NaN       NaN        NaN  \n",
      "1              NaN        NaN       NaN        NaN  \n",
      "2              NaN        NaN       NaN        NaN  \n",
      "3              NaN        NaN       NaN        NaN  \n",
      "4              NaN        NaN       NaN        NaN  \n",
      "...            ...        ...       ...        ...  \n",
      "4588           NaN        NaN       NaN        NaN  \n",
      "4589           NaN        NaN       NaN        NaN  \n",
      "4590           NaN        NaN       NaN        NaN  \n",
      "4591           NaN        NaN       NaN        NaN  \n",
      "4592           NaN        NaN       NaN        NaN  \n",
      "\n",
      "[4593 rows x 36 columns]\n"
     ]
    }
   ],
   "source": [
    "main(\"イングランド-2022.csv\")"
   ]
  },
  {
   "cell_type": "code",
   "execution_count": null,
   "metadata": {},
   "outputs": [],
   "source": []
  }
 ],
 "metadata": {
  "kernelspec": {
   "display_name": "Python 3.9.13 64-bit",
   "language": "python",
   "name": "python3"
  },
  "language_info": {
   "codemirror_mode": {
    "name": "ipython",
    "version": 3
   },
   "file_extension": ".py",
   "mimetype": "text/x-python",
   "name": "python",
   "nbconvert_exporter": "python",
   "pygments_lexer": "ipython3",
   "version": "3.9.13"
  },
  "orig_nbformat": 4,
  "vscode": {
   "interpreter": {
    "hash": "aee8b7b246df8f9039afb4144a1f6fd8d2ca17a180786b69acc140d282b71a49"
   }
  }
 },
 "nbformat": 4,
 "nbformat_minor": 2
}
