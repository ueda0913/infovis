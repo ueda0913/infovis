{
 "cells": [
  {
   "cell_type": "code",
   "execution_count": 3,
   "metadata": {},
   "outputs": [],
   "source": [
    "import pandas as pd"
   ]
  },
  {
   "cell_type": "markdown",
   "metadata": {},
   "source": [
    "# Twitterの外部ライブラリ(GOT3)の使い方\n",
    "python3 cli.py -s (検索ワード) --since \"2022-12-05\"(検索開始日時) --untill \"2022-12-06\"(検索終了日常) -o user.csv(ファイル名) --csv"
   ]
  },
  {
   "cell_type": "code",
   "execution_count": 1,
   "metadata": {},
   "outputs": [],
   "source": [
    "def reduceTwitterData(rawData):\n",
    "    df = pd.read_csv(rawData)\n",
    "    print(df)\n",
    "    df.to_csv('./TwitterData/revised'+ rawData, columns = ['date', 'time', 'timezone', 'tweet'], index = False)"
   ]
  },
  {
   "cell_type": "code",
   "execution_count": 4,
   "metadata": {},
   "outputs": [
    {
     "name": "stdout",
     "output_type": "stream",
     "text": [
      "                       id      conversation_id               created_at  \\\n",
      "0     1600135387791339521  1600135387791339521  2022-12-06 23:29:40 JST   \n",
      "1     1600135302823088128  1600135302823088128  2022-12-06 23:29:19 JST   \n",
      "2     1600135299807727617  1600135299807727617  2022-12-06 23:29:19 JST   \n",
      "3     1600134933431095297  1600134933431095297  2022-12-06 23:27:51 JST   \n",
      "4     1600134930054672384  1600134930054672384  2022-12-06 23:27:51 JST   \n",
      "...                   ...                  ...                      ...   \n",
      "1154  1599917293416304640  1599917293416304640  2022-12-06 09:03:02 JST   \n",
      "1155  1599917229373820928  1599917229373820928  2022-12-06 09:02:47 JST   \n",
      "1156  1599917170854879233  1599917170854879233  2022-12-06 09:02:33 JST   \n",
      "1157  1599916913546907648  1599916913546907648  2022-12-06 09:01:31 JST   \n",
      "1158  1599916838116241408  1599916838116241408  2022-12-06 09:01:13 JST   \n",
      "\n",
      "            date      time  timezone              user_id         username  \\\n",
      "0     2022-12-06  23:29:40       900   793390305613484032   2016nitihamwin   \n",
      "1     2022-12-06  23:29:19       900   982124231755313152        w80099448   \n",
      "2     2022-12-06  23:29:19       900           1683088088       mishimangn   \n",
      "3     2022-12-06  23:27:51       900            235885823          wimp_sr   \n",
      "4     2022-12-06  23:27:51       900  1464754142035935235  kurumizawa_moka   \n",
      "...          ...       ...       ...                  ...              ...   \n",
      "1154  2022-12-06  09:03:02       900             86104669         gekisaka   \n",
      "1155  2022-12-06  09:02:47       900            327315702      charurun513   \n",
      "1156  2022-12-06  09:02:33       900  1551370321412128768       ooue_washi   \n",
      "1157  2022-12-06  09:01:31       900           1282524072      yutahiyoshi   \n",
      "1158  2022-12-06  09:01:13       900  1494283069959729152        hm_kotaro   \n",
      "\n",
      "                         name  place  ... geo source user_rt_id user_rt  \\\n",
      "0          ありがとう賢介｡ﾟ(ﾟ⊃Д⊂ﾟ)ﾟ｡    NaN  ... NaN    NaN        NaN     NaN   \n",
      "1                      街の御意見番    NaN  ... NaN    NaN        NaN     NaN   \n",
      "2                        みしマン    NaN  ... NaN    NaN        NaN     NaN   \n",
      "3     ななこI miss U🌍MusicLover🌎    NaN  ... NaN    NaN        NaN     NaN   \n",
      "4                      胡桃澤 もか    NaN  ... NaN    NaN        NaN     NaN   \n",
      "...                       ...    ...  ...  ..    ...        ...     ...   \n",
      "1154                     ゲキサカ    NaN  ... NaN    NaN        NaN     NaN   \n",
      "1155                 ちゃるるん☕️🐈    NaN  ... NaN    NaN        NaN     NaN   \n",
      "1156               和紙と特種紙オオウエ    NaN  ... NaN    NaN        NaN     NaN   \n",
      "1157        前衆議院議員 日吉雄太【静岡7区】    NaN  ... NaN    NaN        NaN     NaN   \n",
      "1158     虎太郎　人生謳歌中！相互フォロー100％    NaN  ... NaN    NaN        NaN     NaN   \n",
      "\n",
      "     retweet_id                             reply_to  retweet_date  translate  \\\n",
      "0           NaN  {'user_id': None, 'username': None}           NaN        NaN   \n",
      "1           NaN  {'user_id': None, 'username': None}           NaN        NaN   \n",
      "2           NaN  {'user_id': None, 'username': None}           NaN        NaN   \n",
      "3           NaN  {'user_id': None, 'username': None}           NaN        NaN   \n",
      "4           NaN  {'user_id': None, 'username': None}           NaN        NaN   \n",
      "...         ...                                  ...           ...        ...   \n",
      "1154        NaN  {'user_id': None, 'username': None}           NaN        NaN   \n",
      "1155        NaN  {'user_id': None, 'username': None}           NaN        NaN   \n",
      "1156        NaN  {'user_id': None, 'username': None}           NaN        NaN   \n",
      "1157        NaN  {'user_id': None, 'username': None}           NaN        NaN   \n",
      "1158        NaN  {'user_id': None, 'username': None}           NaN        NaN   \n",
      "\n",
      "     trans_src trans_dest  \n",
      "0          NaN        NaN  \n",
      "1          NaN        NaN  \n",
      "2          NaN        NaN  \n",
      "3          NaN        NaN  \n",
      "4          NaN        NaN  \n",
      "...        ...        ...  \n",
      "1154       NaN        NaN  \n",
      "1155       NaN        NaN  \n",
      "1156       NaN        NaN  \n",
      "1157       NaN        NaN  \n",
      "1158       NaN        NaN  \n",
      "\n",
      "[1159 rows x 36 columns]\n"
     ]
    }
   ],
   "source": [
    "reduceTwitterData(\"cro.csv\")"
   ]
  }
 ],
 "metadata": {
  "kernelspec": {
   "display_name": "Python 3.9.13 64-bit",
   "language": "python",
   "name": "python3"
  },
  "language_info": {
   "codemirror_mode": {
    "name": "ipython",
    "version": 3
   },
   "file_extension": ".py",
   "mimetype": "text/x-python",
   "name": "python",
   "nbconvert_exporter": "python",
   "pygments_lexer": "ipython3",
   "version": "3.9.13"
  },
  "orig_nbformat": 4,
  "vscode": {
   "interpreter": {
    "hash": "aee8b7b246df8f9039afb4144a1f6fd8d2ca17a180786b69acc140d282b71a49"
   }
  }
 },
 "nbformat": 4,
 "nbformat_minor": 2
}
