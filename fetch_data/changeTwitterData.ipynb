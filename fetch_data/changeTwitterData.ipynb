{
 "cells": [
  {
   "cell_type": "code",
   "execution_count": 16,
   "metadata": {},
   "outputs": [],
   "source": [
    "import pandas as pd\n",
    "import MeCab as mc\n",
    "from wordcloud import WordCloud\n",
    "import os\n",
    "import re"
   ]
  },
  {
   "attachments": {},
   "cell_type": "markdown",
   "metadata": {},
   "source": [
    "# Twitterの外部ライブラリ(GOT3)の使い方\n",
    "python3 cli.py -s (検索ワード) --since \"2022-12-05\"(検索開始日時) --untill \"2022-12-06\"(検索終了日時) -o user.csv(ファイル名) --csv"
   ]
  },
  {
   "cell_type": "code",
   "execution_count": 1,
   "metadata": {},
   "outputs": [],
   "source": [
    "def reduceTwitterData(rawData):\n",
    "    df = pd.read_csv(rawData)\n",
    "    print(df)\n",
    "    df.to_csv('./TwitterData/revised'+ rawData, columns = ['date', 'time', 'timezone', 'tweet'], index = False)"
   ]
  },
  {
   "cell_type": "code",
   "execution_count": null,
   "metadata": {},
   "outputs": [],
   "source": [
    "reduceTwitterData(\"cro.csv\")"
   ]
  },
  {
   "cell_type": "code",
   "execution_count": 5,
   "metadata": {},
   "outputs": [],
   "source": [
    "TXT_FILE = \"../../rashomon.txt\""
   ]
  },
  {
   "cell_type": "code",
   "execution_count": 7,
   "metadata": {},
   "outputs": [],
   "source": [
    "def strip_CRLF_from_Text(text):\n",
    "    \"\"\"\n",
    "    改行前後が日本語文字の場合は改行を削除する．\n",
    "    それ以外はスペースに置換する．\n",
    "    \"\"\"\n",
    "    # 改行前後の文字が日本語文字の場合は改行を削除する\n",
    "    plaintext = re.sub('([ぁ-んー]+|[ァ-ンー]+|[\\\\u4e00-\\\\u9FFF]+|[ぁ-んァ-ンー\\\\u4e00-\\\\u9FFF]+)(\\n)([ぁ-んー]+|[ァ-ンー]+|[\\\\u4e00-\\\\u9FFF]+|[ぁ-んァ-ンー\\\\u4e00-\\\\u9FFF]+)',\n",
    "                       r'\\1\\3',\n",
    "                       text)\n",
    "    # 残った改行とタブ記号はスペースに置換する\n",
    "    plaintext = plaintext.replace('\\n', ' ').replace('\\t', ' ')\n",
    "    return plaintext"
   ]
  },
  {
   "cell_type": "code",
   "execution_count": 13,
   "metadata": {},
   "outputs": [],
   "source": [
    "def mecab_wakati(text):\n",
    "    #t = mc.Tagger()\n",
    "    t = mc.Tagger('-d /usr/local/lib/mecab/dic/mecab-ipadic-neologd/')\n",
    "    node = t.parseToNode(text)\n",
    "    #print(type(node))\n",
    "    sent = \"\"\n",
    "    while(node):\n",
    "        # print(node.surface, node.feature)\n",
    "        if node.surface != \"\":  # ヘッダとフッタを除外\n",
    "            word_type = node.feature.split(\",\")[0]\n",
    "            # 名詞だけをリストに追加する\n",
    "            if word_type in [\"名詞\"]:\n",
    "                 sent += node.surface + \" \"  # node.surface は「表層形」\n",
    "            # 動詞（の原型），形容詞，副詞もリストに加えたい場合は次の２行を有効にする\n",
    "            if word_type in [ \"動詞\", \"形容詞\",\"副詞\"]:\n",
    "                sent += node.feature.split(\",\")[6] + \" \" # node.feature.split(\",\")[6] は形態素解析結果の「原型」\n",
    "        node = node.next\n",
    "        if node is None:\n",
    "            break\n",
    "    return sent"
   ]
  },
  {
   "cell_type": "code",
   "execution_count": 15,
   "metadata": {},
   "outputs": [
    {
     "data": {
      "text/plain": [
       "<wordcloud.wordcloud.WordCloud at 0x10790d9d0>"
      ]
     },
     "execution_count": 15,
     "metadata": {},
     "output_type": "execute_result"
    }
   ],
   "source": [
    "f = open(TXT_FILE, encoding=\"utf8\")\n",
    "raw = f.read()\n",
    "#print(raw)\n",
    "text = strip_CRLF_from_Text(raw)\n",
    "#print(text)\n",
    "sent = mecab_wakati(text)\n",
    "# フォントの保存先を指定する\n",
    "font_path = \"/System/Library/Fonts/ヒラギノ角ゴシック W3.ttc\"  ## Mac 版はこちら\n",
    " \n",
    "# WordCloud画像を生成する\n",
    "wc = WordCloud(max_font_size=36, font_path=font_path).generate(sent)\n",
    "wc.to_file(\"wc-4.png\")"
   ]
  },
  {
   "cell_type": "code",
   "execution_count": 19,
   "metadata": {},
   "outputs": [],
   "source": [
    "def twitterdataToWordCloud(CSV_FILE):\n",
    "    df = pd.read_csv(CSV_FILE)\n",
    "    tweet = df.loc[: , \"tweet\"]\n",
    "    tweetcontent = \"\"\n",
    "    for i in range(len(tweet)):\n",
    "        tweetcontent += tweet[i]\n",
    "    # f = open(tweetcontent, encoding=\"utf8\")\n",
    "    # raw = f.read()\n",
    "    #print(raw)\n",
    "    text = strip_CRLF_from_Text(tweetcontent)\n",
    "    #print(text)\n",
    "    sent = mecab_wakati(text)\n",
    "    # フォントの保存先を指定する\n",
    "    font_path = \"/System/Library/Fonts/ヒラギノ角ゴシック W3.ttc\"  ## Mac 版はこちら\n",
    "    wc = WordCloud(max_font_size=36, font_path=font_path).generate(sent)\n",
    "    wc.to_file(\"wc-4.png\")"
   ]
  },
  {
   "cell_type": "code",
   "execution_count": 20,
   "metadata": {},
   "outputs": [],
   "source": [
    "twitterdataToWordCloud(\"./TwitterData/revisedcro.csv\")"
   ]
  },
  {
   "cell_type": "code",
   "execution_count": null,
   "metadata": {},
   "outputs": [],
   "source": []
  }
 ],
 "metadata": {
  "kernelspec": {
   "display_name": "Python 3.9.13 64-bit",
   "language": "python",
   "name": "python3"
  },
  "language_info": {
   "codemirror_mode": {
    "name": "ipython",
    "version": 3
   },
   "file_extension": ".py",
   "mimetype": "text/x-python",
   "name": "python",
   "nbconvert_exporter": "python",
   "pygments_lexer": "ipython3",
   "version": "3.9.13"
  },
  "orig_nbformat": 4,
  "vscode": {
   "interpreter": {
    "hash": "aee8b7b246df8f9039afb4144a1f6fd8d2ca17a180786b69acc140d282b71a49"
   }
  }
 },
 "nbformat": 4,
 "nbformat_minor": 2
}
